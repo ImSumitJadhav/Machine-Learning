{
  "nbformat": 4,
  "nbformat_minor": 0,
  "metadata": {
    "colab": {
      "provenance": [],
      "authorship_tag": "ABX9TyNHDhgzfyPD/bS8v4//IRDP",
      "include_colab_link": true
    },
    "kernelspec": {
      "name": "python3",
      "display_name": "Python 3"
    },
    "language_info": {
      "name": "python"
    }
  },
  "cells": [
    {
      "cell_type": "markdown",
      "metadata": {
        "id": "view-in-github",
        "colab_type": "text"
      },
      "source": [
        "<a href=\"https://colab.research.google.com/github/ImSumitJadhav/Machine-Learning/blob/main/T6_Clustering_Algorithms.ipynb\" target=\"_parent\"><img src=\"https://colab.research.google.com/assets/colab-badge.svg\" alt=\"Open In Colab\"/></a>"
      ]
    },
    {
      "cell_type": "markdown",
      "source": [
        "# **Clustering Algorithms**"
      ],
      "metadata": {
        "id": "aa6alrdQlmxD"
      }
    },
    {
      "cell_type": "code",
      "source": [
        "import sklearn.cluster"
      ],
      "metadata": {
        "id": "tK0Zh40HdHgU"
      },
      "execution_count": null,
      "outputs": []
    },
    {
      "cell_type": "code",
      "source": [
        "km= KMeans ()  "
      ],
      "metadata": {
        "id": "KsdKIEljmpCQ"
      },
      "execution_count": null,
      "outputs": []
    },
    {
      "cell_type": "code",
      "source": [
        "ms = cluster.MeanShift(bandwidth=bandwidth, bin_seeding=True)"
      ],
      "metadata": {
        "id": "kiw98X-Ccb86"
      },
      "execution_count": null,
      "outputs": []
    },
    {
      "cell_type": "code",
      "source": [
        "two_means = cluster.MiniBatchKMeans(n_clusters=params[\"n_clusters\"], n_init=\"auto\")"
      ],
      "metadata": {
        "id": "6kzr0mS9cb6s"
      },
      "execution_count": null,
      "outputs": []
    },
    {
      "cell_type": "code",
      "source": [
        "ward = cluster.AgglomerativeClustering(\n",
        "    n_clusters=params[\"n_clusters\"], linkage=\"ward\", connectivity=connectivity)"
      ],
      "metadata": {
        "id": "JCSAStQZcby6"
      },
      "execution_count": null,
      "outputs": []
    },
    {
      "cell_type": "code",
      "source": [
        "spectral = cluster.SpectralClustering(\n",
        "    n_clusters=params[\"n_clusters\"],\n",
        "    eigen_solver=\"arpack\",\n",
        "    affinity=\"nearest_neighbors\")"
      ],
      "metadata": {
        "id": "_ipzO5jlcbwS"
      },
      "execution_count": null,
      "outputs": []
    },
    {
      "cell_type": "code",
      "source": [
        "dbscan = cluster.DBSCAN(eps=params[\"eps\"])\n"
      ],
      "metadata": {
        "id": "jza6PKx1cbj7"
      },
      "execution_count": null,
      "outputs": []
    },
    {
      "cell_type": "code",
      "source": [
        "optics = cluster.OPTICS(\n",
        "    min_samples=params[\"min_samples\"],\n",
        "    xi=params[\"xi\"],\n",
        "    min_cluster_size=params[\"min_cluster_size\"])"
      ],
      "metadata": {
        "id": "KMelTwyQcbin"
      },
      "execution_count": null,
      "outputs": []
    },
    {
      "cell_type": "code",
      "source": [
        "affinity_propagation = cluster.AffinityPropagation(\n",
        "    damping=params[\"damping\"], preference=params[\"preference\"], random_state=0)"
      ],
      "metadata": {
        "id": "kBQyfJc1cbff"
      },
      "execution_count": null,
      "outputs": []
    },
    {
      "cell_type": "code",
      "source": [
        "average_linkage = cluster.AgglomerativeClustering(\n",
        "    linkage=\"average\",\n",
        "    metric=\"cityblock\",\n",
        "    n_clusters=params[\"n_clusters\"],\n",
        "    connectivity=connectivity)"
      ],
      "metadata": {
        "id": "IDA5yta8cbcX"
      },
      "execution_count": null,
      "outputs": []
    },
    {
      "cell_type": "code",
      "source": [
        "birch = cluster.Birch(n_clusters=params[\"n_clusters\"])"
      ],
      "metadata": {
        "id": "_gMtJvSNcbYx"
      },
      "execution_count": null,
      "outputs": []
    },
    {
      "cell_type": "code",
      "source": [
        "gmm = mixture.GaussianMixture(\n",
        "    n_components=params[\"n_clusters\"], covariance_type=\"full\"\n",
        ")"
      ],
      "metadata": {
        "id": "hL0Hd01AcbWw"
      },
      "execution_count": null,
      "outputs": []
    }
  ]
}