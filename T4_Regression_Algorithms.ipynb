{
  "nbformat": 4,
  "nbformat_minor": 0,
  "metadata": {
    "colab": {
      "provenance": [],
      "authorship_tag": "ABX9TyMd2XZvomOfgqmsBh4chvlj",
      "include_colab_link": true
    },
    "kernelspec": {
      "name": "python3",
      "display_name": "Python 3"
    },
    "language_info": {
      "name": "python"
    }
  },
  "cells": [
    {
      "cell_type": "markdown",
      "metadata": {
        "id": "view-in-github",
        "colab_type": "text"
      },
      "source": [
        "<a href=\"https://colab.research.google.com/github/ImSumitJadhav/Machine-Learning/blob/main/T4_Regression_Algorithms.ipynb\" target=\"_parent\"><img src=\"https://colab.research.google.com/assets/colab-badge.svg\" alt=\"Open In Colab\"/></a>"
      ]
    },
    {
      "cell_type": "markdown",
      "source": [
        "# **Regression Algorithms**"
      ],
      "metadata": {
        "id": "aa6alrdQlmxD"
      }
    },
    {
      "cell_type": "markdown",
      "source": [
        "# **1.Linear**"
      ],
      "metadata": {
        "id": "F_Ra4dVzlsT4"
      }
    },
    {
      "cell_type": "code",
      "source": [
        "#Fitting the MLR model to the training set:  \n",
        "from sklearn.linear_model import LinearRegression  \n",
        "lin= LinearRegression()  "
      ],
      "metadata": {
        "id": "F9sJqwGkVRp8"
      },
      "execution_count": 2,
      "outputs": []
    },
    {
      "cell_type": "markdown",
      "source": [
        "# **2.Ridge**"
      ],
      "metadata": {
        "id": "HGXD8xzqlwNc"
      }
    },
    {
      "cell_type": "code",
      "source": [
        "from sklearn.linear_model import ridge\n",
        "r=ridge()"
      ],
      "metadata": {
        "id": "KsdKIEljmpCQ"
      },
      "execution_count": null,
      "outputs": []
    },
    {
      "cell_type": "markdown",
      "source": [
        "# **3.Lasso**"
      ],
      "metadata": {
        "id": "Ueltg3ZwW3Tk"
      }
    },
    {
      "cell_type": "code",
      "source": [
        "\n",
        "from sklearn.linear_model import Lasso\n",
        "%ldir=Lasso()"
      ],
      "metadata": {
        "id": "MgrX5iJMmt9Y"
      },
      "execution_count": 1,
      "outputs": []
    },
    {
      "cell_type": "markdown",
      "source": [
        "# **4.ElasticNet**"
      ],
      "metadata": {
        "id": "wxZ6SdcIXETk"
      }
    },
    {
      "cell_type": "code",
      "source": [
        "\n",
        "from sklearn.linear_model import ElasticNet\n",
        "en=ElasticNet()"
      ],
      "metadata": {
        "id": "6WBn5TyOq_qH"
      },
      "execution_count": null,
      "outputs": []
    },
    {
      "cell_type": "markdown",
      "source": [
        "# **5.Decision Tree**"
      ],
      "metadata": {
        "id": "ROCAK9bnXH2V"
      }
    },
    {
      "cell_type": "code",
      "source": [
        "# import the regressor\n",
        "from sklearn.tree import DecisionTree\n",
        "  \n",
        "# create a regressor object\n",
        "dt = DecisionTreeRegressor(random_state = 0) \n",
        "  "
      ],
      "metadata": {
        "id": "IuueQy7gvVBT"
      },
      "execution_count": null,
      "outputs": []
    },
    {
      "cell_type": "markdown",
      "source": [
        "# **6.Gradient Boosting**"
      ],
      "metadata": {
        "id": "DzzXMsgAXQ5k"
      }
    },
    {
      "cell_type": "code",
      "source": [
        "\n",
        "# Fitting Random Forest Regression to the dataset\n",
        "# import the regressor\n",
        "from sklearn.ensemble import GradientBoostingRegressor\n",
        "  \n",
        " # create regressor object\n",
        "gb = GradientBoostingRegressor(n_estimators = 100, random_state = 0)"
      ],
      "metadata": {
        "id": "yMwRGP8f0Hhv"
      },
      "execution_count": 6,
      "outputs": []
    },
    {
      "cell_type": "markdown",
      "source": [
        "# **7.AdaBoost**"
      ],
      "metadata": {
        "id": "iZ10_MpXXdDE"
      }
    },
    {
      "cell_type": "code",
      "source": [
        "\n",
        "# Fitting Random Forest Regression to the dataset\n",
        "# import the regressor\n",
        "from sklearn.ensemble import AdaBoostRegressor\n",
        "  \n",
        " # create regressor object\n",
        "abr = AdaBoostRegressor(n_estimators = 100, random_state = 0)"
      ],
      "metadata": {
        "id": "VC3WBabx4YAJ"
      },
      "execution_count": null,
      "outputs": []
    },
    {
      "cell_type": "markdown",
      "source": [
        "# **8.XGboost**"
      ],
      "metadata": {
        "id": "jjwOW8nRXgJl"
      }
    },
    {
      "cell_type": "code",
      "source": [
        "#import classification algorithm\n",
        "from xgboost import XGBRegressor\n",
        "\n",
        "#model number 1\n",
        "xgb=XGBRegressor()"
      ],
      "metadata": {
        "id": "trMIneHw3XTF"
      },
      "execution_count": 7,
      "outputs": []
    },
    {
      "cell_type": "markdown",
      "source": [
        "# **9.KNeighbors**"
      ],
      "metadata": {
        "id": "bK4wz0BOXliU"
      }
    },
    {
      "cell_type": "code",
      "source": [
        "from sklearn.neighbors import KNeighborsRegressor  \n",
        "knn=KNeighborsRegressor()"
      ],
      "metadata": {
        "id": "WcdWKZEI6KF1"
      },
      "execution_count": null,
      "outputs": []
    },
    {
      "cell_type": "markdown",
      "source": [
        "# **10.SVM**"
      ],
      "metadata": {
        "id": "GtG94754Xnwc"
      }
    },
    {
      "cell_type": "code",
      "source": [
        "from sklearn.svm import SVR # \"Support vector classifier\"  \n",
        "svr = SVR(kernel='linear', random_state=0)  "
      ],
      "metadata": {
        "id": "qyU5DZxe6J_N"
      },
      "execution_count": null,
      "outputs": []
    },
    {
      "cell_type": "markdown",
      "source": [
        "# **11.Ridge_Regression**"
      ],
      "metadata": {
        "id": "POcBzjfPXqTr"
      }
    },
    {
      "cell_type": "code",
      "source": [
        "from sklearn.linear_model import ridge_regression\n",
        "rr=ridge_regression()"
      ],
      "metadata": {
        "id": "yFaPFuXyX4RM"
      },
      "execution_count": null,
      "outputs": []
    },
    {
      "cell_type": "markdown",
      "source": [
        "# **12.RidgeCV**"
      ],
      "metadata": {
        "id": "WNlV7B91YDA7"
      }
    },
    {
      "cell_type": "code",
      "source": [
        "from sklearn.linear_model import RidgeCV\n",
        "rcv=RidgeCV()"
      ],
      "metadata": {
        "id": "twDXc49WYDg7"
      },
      "execution_count": null,
      "outputs": []
    },
    {
      "cell_type": "markdown",
      "source": [
        "# **13.LassoCV**"
      ],
      "metadata": {
        "id": "YEEWLKYSYTG6"
      }
    },
    {
      "cell_type": "code",
      "source": [
        "from sklearn.linear_model import LassoCV\n",
        "lcv=LassoCV()"
      ],
      "metadata": {
        "id": "WZLgJej9Yaoq"
      },
      "execution_count": null,
      "outputs": []
    },
    {
      "cell_type": "markdown",
      "source": [
        "# **14.ElasticNetCV**"
      ],
      "metadata": {
        "id": "AUcpvxPYYlY6"
      }
    },
    {
      "cell_type": "code",
      "source": [
        "from sklearn.linear_model import ElasticNetCV\n",
        "encv=ElasticNetCV()"
      ],
      "metadata": {
        "id": "8sOA5IqTYsZ5"
      },
      "execution_count": null,
      "outputs": []
    },
    {
      "cell_type": "markdown",
      "source": [
        "# **15.Random Forest**"
      ],
      "metadata": {
        "id": "G8DFeb96Yr2R"
      }
    },
    {
      "cell_type": "code",
      "source": [
        "\n",
        "# Fitting Random Forest Regression to the dataset\n",
        "# import the regressor\n",
        "from sklearn.ensemble import RandomForestRegressor\n",
        "  \n",
        " # create regressor object\n",
        "rfr = RandomForestRegressor()"
      ],
      "metadata": {
        "id": "NS7_FRnuZMQE"
      },
      "execution_count": null,
      "outputs": []
    }
  ]
}