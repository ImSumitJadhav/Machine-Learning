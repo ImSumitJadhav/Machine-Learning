{
  "nbformat": 4,
  "nbformat_minor": 0,
  "metadata": {
    "colab": {
      "provenance": [],
      "authorship_tag": "ABX9TyOYC/UakqzejJNPGEgYL7vq",
      "include_colab_link": true
    },
    "kernelspec": {
      "name": "python3",
      "display_name": "Python 3"
    },
    "language_info": {
      "name": "python"
    }
  },
  "cells": [
    {
      "cell_type": "markdown",
      "metadata": {
        "id": "view-in-github",
        "colab_type": "text"
      },
      "source": [
        "<a href=\"https://colab.research.google.com/github/ImSumitJadhav/Machine-Learning/blob/main/T5_Classification_Algorithms.ipynb\" target=\"_parent\"><img src=\"https://colab.research.google.com/assets/colab-badge.svg\" alt=\"Open In Colab\"/></a>"
      ]
    },
    {
      "cell_type": "markdown",
      "source": [
        "# **Classification Algorithms**"
      ],
      "metadata": {
        "id": "aa6alrdQlmxD"
      }
    },
    {
      "cell_type": "markdown",
      "source": [
        "# **1.Logistic Regression**"
      ],
      "metadata": {
        "id": "F_Ra4dVzlsT4"
      }
    },
    {
      "cell_type": "code",
      "source": [
        "from sklearn.linear_model import LogisticRegression\n",
        "Lgr= LogisticRegression()  "
      ],
      "metadata": {
        "id": "F9sJqwGkVRp8"
      },
      "execution_count": null,
      "outputs": []
    },
    {
      "cell_type": "markdown",
      "source": [
        "# **2.Stochastic Gradient descent**"
      ],
      "metadata": {
        "id": "HGXD8xzqlwNc"
      }
    },
    {
      "cell_type": "code",
      "source": [
        "from sklearn.linear_model import SGDClassifier \n",
        "sgdc= SGDClassifier ()  "
      ],
      "metadata": {
        "id": "KsdKIEljmpCQ"
      },
      "execution_count": null,
      "outputs": []
    },
    {
      "cell_type": "markdown",
      "source": [
        "# **3.Naive Bayes**"
      ],
      "metadata": {
        "id": "Ueltg3ZwW3Tk"
      }
    },
    {
      "cell_type": "code",
      "source": [
        "# Fitting Naive Bayes to the Training set  \n",
        "from sklearn.naive_bayes import GaussianNB  \n",
        "gnb = GaussianNB()  "
      ],
      "metadata": {
        "id": "MgrX5iJMmt9Y"
      },
      "execution_count": null,
      "outputs": []
    },
    {
      "cell_type": "code",
      "source": [
        "# Fitting Naive Bayes to the Training set  \n",
        "from sklearn.naive_bayes import BernoulliNB  \n",
        "bnb = BernoulliNB()  "
      ],
      "metadata": {
        "id": "k85kpBRWpmz3"
      },
      "execution_count": null,
      "outputs": []
    },
    {
      "cell_type": "markdown",
      "source": [
        "# **4.Decision Tree**"
      ],
      "metadata": {
        "id": "ROCAK9bnXH2V"
      }
    },
    {
      "cell_type": "code",
      "source": [
        "# import the regressor\n",
        "from sklearn.tree import DecisionTreeClassifier\n",
        "  \n",
        "# create a regressor object\n",
        "dtc = DecisionTreeClassifier() \n",
        "  "
      ],
      "metadata": {
        "id": "IuueQy7gvVBT"
      },
      "execution_count": 1,
      "outputs": []
    },
    {
      "cell_type": "markdown",
      "source": [
        "# **5.Gradient Boosting**"
      ],
      "metadata": {
        "id": "DzzXMsgAXQ5k"
      }
    },
    {
      "cell_type": "code",
      "source": [
        "\n",
        "# Fitting Random Forest Regression to the dataset\n",
        "from sklearn.ensemble import GradientBoostingClassifier\n",
        "  \n",
        " # create regressor object\n",
        "gbc = GradientBoostingClassifier()"
      ],
      "metadata": {
        "id": "yMwRGP8f0Hhv"
      },
      "execution_count": null,
      "outputs": []
    },
    {
      "cell_type": "markdown",
      "source": [
        "# **6.AdaBoost**"
      ],
      "metadata": {
        "id": "iZ10_MpXXdDE"
      }
    },
    {
      "cell_type": "code",
      "source": [
        "\n",
        "# Fitting Random Forest Regression to the dataset\n",
        "# import the regressor\n",
        "from sklearn.ensemble import AdaBoostClassifier\n",
        "  \n",
        " # create regressor object\n",
        "abc = AdaBoostClassifier()"
      ],
      "metadata": {
        "id": "VC3WBabx4YAJ"
      },
      "execution_count": null,
      "outputs": []
    },
    {
      "cell_type": "markdown",
      "source": [
        "# **7.XGboost**"
      ],
      "metadata": {
        "id": "jjwOW8nRXgJl"
      }
    },
    {
      "cell_type": "code",
      "source": [
        "#import classification algorithm\n",
        "from xgboost import XGBClassifier\n",
        "\n",
        "#model number 1\n",
        "xgbc=XGBClassifier()"
      ],
      "metadata": {
        "id": "trMIneHw3XTF"
      },
      "execution_count": null,
      "outputs": []
    },
    {
      "cell_type": "markdown",
      "source": [
        "# **8.KNeighbors**"
      ],
      "metadata": {
        "id": "bK4wz0BOXliU"
      }
    },
    {
      "cell_type": "code",
      "source": [
        "from sklearn.neighbors import KNeighborsClassifier  \n",
        "knnc=KNeighborsClassifier()"
      ],
      "metadata": {
        "id": "WcdWKZEI6KF1"
      },
      "execution_count": null,
      "outputs": []
    },
    {
      "cell_type": "markdown",
      "source": [
        "# **9.SVM**"
      ],
      "metadata": {
        "id": "GtG94754Xnwc"
      }
    },
    {
      "cell_type": "code",
      "source": [
        "from sklearn.svm import SVC # \"Support vector classifier\"  \n",
        "svc = SVC()  "
      ],
      "metadata": {
        "id": "qyU5DZxe6J_N"
      },
      "execution_count": null,
      "outputs": []
    }
  ]
}